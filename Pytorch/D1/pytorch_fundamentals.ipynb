{
 "cells": [
  {
   "cell_type": "markdown",
   "id": "889c8b6a",
   "metadata": {},
   "source": [
    "## Pytorch Fundamentals"
   ]
  },
  {
   "cell_type": "code",
   "execution_count": 2,
   "id": "264bfbad",
   "metadata": {},
   "outputs": [
    {
     "name": "stdout",
     "output_type": "stream",
     "text": [
      "testing python working\n"
     ]
    }
   ],
   "source": [
    "print(\"testing python working\")"
   ]
  },
  {
   "cell_type": "code",
   "execution_count": 3,
   "id": "ee50015c",
   "metadata": {},
   "outputs": [
    {
     "name": "stdout",
     "output_type": "stream",
     "text": [
      "2.5.1\n"
     ]
    }
   ],
   "source": [
    "import torch\n",
    "import pandas as pd\n",
    "import matplotlib as plt\n",
    "import numpy as np\n",
    "\n",
    "print(torch.__version__)"
   ]
  },
  {
   "cell_type": "markdown",
   "id": "17f736be",
   "metadata": {},
   "source": [
    "# intro to tensor"
   ]
  },
  {
   "cell_type": "code",
   "execution_count": 6,
   "id": "30309c23",
   "metadata": {},
   "outputs": [
    {
     "name": "stdout",
     "output_type": "stream",
     "text": [
      "tensor(7)\n",
      "0\n",
      "torch.Size([])\n",
      "7\n"
     ]
    }
   ],
   "source": [
    "scaler = torch.tensor(7)\n",
    "print(scaler)\n",
    "print(scaler.ndim)\n",
    "print(scaler.shape)\n",
    "print(scaler.item())"
   ]
  },
  {
   "cell_type": "code",
   "execution_count": 8,
   "id": "f4b52d9e",
   "metadata": {},
   "outputs": [
    {
     "name": "stdout",
     "output_type": "stream",
     "text": [
      "tensor([7, 7])\n",
      "1\n",
      "torch.Size([2])\n"
     ]
    }
   ],
   "source": [
    "vector = torch.tensor([7, 7])\n",
    "print(vector)\n",
    "print(vector.ndim)\n",
    "print(vector.shape)"
   ]
  },
  {
   "cell_type": "code",
   "execution_count": 13,
   "id": "7eb619ed",
   "metadata": {},
   "outputs": [
    {
     "name": "stdout",
     "output_type": "stream",
     "text": [
      "tensor([[1, 2],\n",
      "        [3, 4]])\n",
      "2\n",
      "torch.Size([2, 2])\n",
      "tensor([3, 4])\n",
      "tensor(4)\n"
     ]
    }
   ],
   "source": [
    "matrix = torch.tensor([[1,2], [3,4]])\n",
    "print(matrix)\n",
    "print(matrix.ndim)\n",
    "print(matrix.shape)\n",
    "print(matrix[1])\n",
    "print(matrix[1][1])"
   ]
  },
  {
   "cell_type": "code",
   "execution_count": null,
   "id": "199e5d02",
   "metadata": {},
   "outputs": [
    {
     "name": "stdout",
     "output_type": "stream",
     "text": [
      "3\n",
      "torch.Size([1, 3, 3])\n",
      "tensor([[1, 2, 3],\n",
      "        [4, 5, 6],\n",
      "        [7, 8, 9]])\n",
      "tensor([4, 5, 6])\n",
      "tensor(6)\n",
      "torch.Size([1, 3, 3])\n"
     ]
    }
   ],
   "source": [
    "tensor = torch.tensor([[[1,2,3], [4,5,6], [7,8,9]]])\n",
    "print(tensor.ndim)\n",
    "print(tensor.shape)\n",
    "print(tensor[0])\n",
    "print(tensor[0][1])\n",
    "print(tensor[0][1][2])\n",
    "print(tensor.size)"
   ]
  },
  {
   "cell_type": "code",
   "execution_count": null,
   "id": "48e08698",
   "metadata": {},
   "outputs": [
    {
     "name": "stdout",
     "output_type": "stream",
     "text": [
      "2\n",
      "torch.Size([3, 3])\n",
      "tensor([1, 2, 3])\n",
      "tensor(2)\n"
     ]
    }
   ],
   "source": [
    "tensor = torch.tensor([[1,2,3], [4,5,6], [7,8,9]])\n",
    "print(tensor.ndim)\n",
    "print(tensor.shape)\n",
    "print(tensor[0])\n",
    "print(tensor[0][1])"
   ]
  },
  {
   "cell_type": "markdown",
   "id": "b40807da",
   "metadata": {},
   "source": [
    "### Random tensors\n",
    "\n",
    "random numbers -> look at data -> update random number -> look again -> update again -> repeat\n"
   ]
  },
  {
   "cell_type": "code",
   "execution_count": null,
   "id": "ef15d44f",
   "metadata": {},
   "outputs": [
    {
     "name": "stdout",
     "output_type": "stream",
     "text": [
      "tensor([[0.5492, 0.0906, 0.1448, 0.9041],\n",
      "        [0.6809, 0.3094, 0.6872, 0.5560],\n",
      "        [0.2010, 0.8711, 0.3170, 0.7031]])\n",
      "2\n"
     ]
    }
   ],
   "source": [
    "random_tensor = torch.rand(3, 4)\n",
    "print(random_tensor)\n",
    "print(random_tensor.ndim)"
   ]
  },
  {
   "cell_type": "code",
   "execution_count": 22,
   "id": "51e412d4",
   "metadata": {},
   "outputs": [
    {
     "name": "stdout",
     "output_type": "stream",
     "text": [
      "torch.Size([224, 224, 3])\n",
      "3\n"
     ]
    }
   ],
   "source": [
    "random_image_tensor = torch.rand(size=(224, 224, 3))\n",
    "print(random_image_tensor.shape)\n",
    "print(random_image_tensor.ndim)"
   ]
  },
  {
   "cell_type": "markdown",
   "id": "b01a7e3b",
   "metadata": {},
   "source": [
    "### zeros and ones"
   ]
  },
  {
   "cell_type": "code",
   "execution_count": 25,
   "id": "1f855086",
   "metadata": {},
   "outputs": [
    {
     "name": "stdout",
     "output_type": "stream",
     "text": [
      "tensor([[0., 0., 0., 0.],\n",
      "        [0., 0., 0., 0.],\n",
      "        [0., 0., 0., 0.]])\n"
     ]
    }
   ],
   "source": [
    "zeros = torch.zeros(3, 4)\n",
    "print(zeros)"
   ]
  },
  {
   "cell_type": "code",
   "execution_count": 27,
   "id": "6655bc96",
   "metadata": {},
   "outputs": [
    {
     "name": "stdout",
     "output_type": "stream",
     "text": [
      "tensor([[1., 1., 1., 1.],\n",
      "        [1., 1., 1., 1.],\n",
      "        [1., 1., 1., 1.]])\n"
     ]
    }
   ],
   "source": [
    "ones = torch.ones(3, 4)\n",
    "print(ones)"
   ]
  },
  {
   "cell_type": "markdown",
   "id": "a6e59c3b",
   "metadata": {},
   "source": [
    "### createing a range of tensors and tensors like"
   ]
  },
  {
   "cell_type": "code",
   "execution_count": 37,
   "id": "02763a83",
   "metadata": {},
   "outputs": [
    {
     "name": "stdout",
     "output_type": "stream",
     "text": [
      "tensor([0, 1, 2, 3, 4, 5, 6, 7, 8, 9])\n",
      "1\n",
      "torch.Size([10])\n",
      "tensor([0, 0, 0, 0, 0, 0, 0, 0, 0, 0])\n",
      "1\n",
      "torch.Size([10])\n"
     ]
    }
   ],
   "source": [
    "# start, end, step, it is going to finish at end - 1\n",
    "\n",
    "arange = torch.arange(0, 10)\n",
    "print(arange)\n",
    "print(arange.ndim)\n",
    "print(arange.shape)\n",
    "\n",
    "like_zeros = torch.zeros_like(input=arange)\n",
    "print(like_zeros)\n",
    "print(like_zeros.ndim)\n",
    "print(like_zeros.shape)"
   ]
  },
  {
   "cell_type": "markdown",
   "id": "7e5efbca",
   "metadata": {},
   "source": [
    "### tensor datatype"
   ]
  },
  {
   "cell_type": "code",
   "execution_count": 41,
   "id": "086035c0",
   "metadata": {},
   "outputs": [
    {
     "name": "stdout",
     "output_type": "stream",
     "text": [
      "torch.float16\n"
     ]
    }
   ],
   "source": [
    "float_16 = torch.tensor([3,0, 6.0, 9.0], dtype=torch.float16, device=\"cpu\", requires_grad=False)\n",
    "print(float_16.dtype)"
   ]
  },
  {
   "cell_type": "code",
   "execution_count": null,
   "id": "5502191b",
   "metadata": {},
   "outputs": [],
   "source": []
  }
 ],
 "metadata": {
  "kernelspec": {
   "display_name": "ml",
   "language": "python",
   "name": "python3"
  },
  "language_info": {
   "codemirror_mode": {
    "name": "ipython",
    "version": 3
   },
   "file_extension": ".py",
   "mimetype": "text/x-python",
   "name": "python",
   "nbconvert_exporter": "python",
   "pygments_lexer": "ipython3",
   "version": "3.12.8"
  }
 },
 "nbformat": 4,
 "nbformat_minor": 5
}
